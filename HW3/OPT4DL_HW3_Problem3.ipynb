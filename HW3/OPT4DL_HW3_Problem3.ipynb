{
  "cells": [
    {
      "cell_type": "code",
      "execution_count": null,
      "metadata": {
        "id": "dy2_3t0TtZmY"
      },
      "outputs": [],
      "source": [
        "import numpy as np                   # advanced math library\n",
        "import matplotlib.pyplot as plt      # MATLAB like plotting routines\n",
        "import random                        # for generating random numbers\n",
        "\n",
        "from keras.datasets import mnist     # MNIST dataset is included in Keras\n",
        "from keras.models import Sequential  # Model type to be used\n",
        "\n",
        "from keras.layers import Dense, Dropout, Activation # Types of layers to be used in our model\n"
      ]
    },
    {
      "cell_type": "code",
      "execution_count": null,
      "metadata": {
        "colab": {
          "base_uri": "https://localhost:8080/"
        },
        "id": "4tHUmLTQttOg",
        "outputId": "3d9f3f8b-c1e3-4948-dae1-ab053a73d1f9"
      },
      "outputs": [
        {
          "output_type": "stream",
          "name": "stdout",
          "text": [
            "Downloading data from https://storage.googleapis.com/tensorflow/tf-keras-datasets/mnist.npz\n",
            "\u001b[1m11490434/11490434\u001b[0m \u001b[32m━━━━━━━━━━━━━━━━━━━━\u001b[0m\u001b[37m\u001b[0m \u001b[1m0s\u001b[0m 0us/step\n"
          ]
        }
      ],
      "source": [
        "# The MNIST data is split between 60,000 28 x 28 pixel training images and 10,000 28 x 28 pixel images\n",
        "(X_train, y_train), (X_test, y_test) = mnist.load_data()"
      ]
    },
    {
      "cell_type": "code",
      "execution_count": null,
      "metadata": {
        "colab": {
          "base_uri": "https://localhost:8080/"
        },
        "id": "PZC_PMirtxMt",
        "outputId": "70b2f409-768a-47bc-ca66-794cb7dba2d9"
      },
      "outputs": [
        {
          "output_type": "stream",
          "name": "stdout",
          "text": [
            "Training matrix shape (60000, 784)\n",
            "Testing matrix shape (10000, 784)\n",
            "Label Matrix Shape: (60000, 1)\n"
          ]
        }
      ],
      "source": [
        "X_train = X_train.reshape(60000, 784) # reshape 60,000 28 x 28 matrices into 60,000 784-length vectors.\n",
        "y_train = np.atleast_2d(y_train.T)      # 2d saves headache when multiplying\n",
        "y_train[y_train>=5] = 1               # binary encoding\n",
        "y_train[y_train<5] = 0\n",
        "\n",
        "X_test = X_test.reshape(10000, 784)   # reshape 10,000 28 x 28 matrices into 10,000 784-length vectors.\n",
        "y_test = np.atleast_2d(y_test.T)        # 2d saves headache when multiplying\n",
        "y_test[y_test>=5] = 1                 # binary encoding\n",
        "y_test[y_test<5] = 0\n",
        "\n",
        "X_train = X_train.astype('float32')   # change integers to 32-bit floating point numbers\n",
        "X_test = X_test.astype('float32')\n",
        "\n",
        "X_train /= 255                        # normalize each value for each pixel for the entire vector for each input\n",
        "X_test /= 255\n",
        "\n",
        "print(\"Training matrix shape\", X_train.shape)\n",
        "print(\"Testing matrix shape\", X_test.shape)\n",
        "print(\"Label Matrix Shape:\", y_train.shape)"
      ]
    },
    {
      "cell_type": "code",
      "execution_count": null,
      "metadata": {
        "id": "2ai3PFPPxDNb"
      },
      "outputs": [],
      "source": [
        "# Constants and initialization\n",
        "B = 32      # batch size\n",
        "T = 100     # number of epochs\n",
        "eta = 0.0001 # placeholder\n",
        "losses = np.zeros((T,1)) # loss for epoch t\n",
        "w = np.random.normal(0,1.5,size = [784,1])\n",
        "idx = np.arange(60000)"
      ]
    },
    {
      "cell_type": "code",
      "execution_count": null,
      "metadata": {
        "id": "VjlPkL9pzsrI"
      },
      "outputs": [],
      "source": [
        "def sigmoid(x):\n",
        "  return 1/(1+np.exp(-x))"
      ]
    },
    {
      "cell_type": "code",
      "execution_count": null,
      "metadata": {
        "id": "mtUXvlEb-boM"
      },
      "outputs": [],
      "source": [
        "def lossFn(x,w,y):\n",
        "  prod = x@w\n",
        "  prod = np.clip(prod,0,1)\n",
        "  return (y.T)@np.log(1+np.exp(-prod)) +(1-y).T@prod"
      ]
    },
    {
      "cell_type": "code",
      "execution_count": null,
      "metadata": {
        "colab": {
          "base_uri": "https://localhost:8080/"
        },
        "id": "Q4KVRFXJvGtT",
        "outputId": "03662e04-1e19-47e2-8595-cd57fac30083"
      },
      "outputs": [
        {
          "output_type": "stream",
          "name": "stdout",
          "text": [
            "Epoch =0\n",
            "Epoch =1\n",
            "Epoch =2\n",
            "Epoch =3\n",
            "Epoch =4\n",
            "Epoch =5\n",
            "Epoch =6\n",
            "Epoch =7\n",
            "Epoch =8\n",
            "Epoch =9\n",
            "Epoch =10\n",
            "Epoch =11\n",
            "Epoch =12\n",
            "Epoch =13\n",
            "Epoch =14\n",
            "Epoch =15\n",
            "Epoch =16\n",
            "Epoch =17\n",
            "Epoch =18\n",
            "Epoch =19\n",
            "Epoch =20\n",
            "Epoch =21\n",
            "Epoch =22\n",
            "Epoch =23\n",
            "Epoch =24\n",
            "Epoch =25\n",
            "Epoch =26\n",
            "Epoch =27\n",
            "Epoch =28\n",
            "Epoch =29\n",
            "Epoch =30\n",
            "Epoch =31\n",
            "Epoch =32\n",
            "Epoch =33\n",
            "Epoch =34\n",
            "Epoch =35\n",
            "Epoch =36\n",
            "Epoch =37\n",
            "Epoch =38\n",
            "Epoch =39\n",
            "Epoch =40\n",
            "Epoch =41\n",
            "Epoch =42\n",
            "Epoch =43\n",
            "Epoch =44\n",
            "Epoch =45\n",
            "Epoch =46\n",
            "Epoch =47\n",
            "Epoch =48\n",
            "Epoch =49\n",
            "Epoch =50\n",
            "Epoch =51\n",
            "Epoch =52\n",
            "Epoch =53\n",
            "Epoch =54\n",
            "Epoch =55\n",
            "Epoch =56\n",
            "Epoch =57\n",
            "Epoch =58\n",
            "Epoch =59\n",
            "Epoch =60\n",
            "Epoch =61\n",
            "Epoch =62\n",
            "Epoch =63\n",
            "Epoch =64\n",
            "Epoch =65\n",
            "Epoch =66\n",
            "Epoch =67\n",
            "Epoch =68\n",
            "Epoch =69\n",
            "Epoch =70\n",
            "Epoch =71\n",
            "Epoch =72\n",
            "Epoch =73\n",
            "Epoch =74\n",
            "Epoch =75\n",
            "Epoch =76\n",
            "Epoch =77\n",
            "Epoch =78\n",
            "Epoch =79\n",
            "Epoch =80\n",
            "Epoch =81\n",
            "Epoch =82\n",
            "Epoch =83\n",
            "Epoch =84\n",
            "Epoch =85\n",
            "Epoch =86\n",
            "Epoch =87\n",
            "Epoch =88\n",
            "Epoch =89\n",
            "Epoch =90\n",
            "Epoch =91\n",
            "Epoch =92\n",
            "Epoch =93\n",
            "Epoch =94\n",
            "Epoch =95\n",
            "Epoch =96\n",
            "Epoch =97\n",
            "Epoch =98\n",
            "Epoch =99\n"
          ]
        }
      ],
      "source": [
        "for t in range(T):\n",
        "  #first, select the batch for this iteration:\n",
        "  batchIdx = np.random.choice(X_train.shape[0],size = X_train.shape[0],replace=False)\n",
        "  print(f'Epoch ={t}')\n",
        "  epochLoss = 0\n",
        "  for b in range(batchIdx.shape[0]):\n",
        "    thisBatch = batchIdx[b*B:(b+1)*B]\n",
        "    X_batch = X_train[thisBatch]\n",
        "    y_batch = y_train[thisBatch]\n",
        "    # gradient of loss function w.r.t w\n",
        "    gradL = X_batch.T@(1+y_batch*sigmoid(X_batch@w)-2*y_batch)\n",
        "    w = w-eta*gradL #update rule\n",
        "    epochLoss += lossFn(X_batch,w,y_batch)\n",
        "  losses[t] = epochLoss/X_train.shape[0] #avg loss/sample"
      ]
    },
    {
      "cell_type": "code",
      "execution_count": null,
      "metadata": {
        "colab": {
          "base_uri": "https://localhost:8080/",
          "height": 472
        },
        "id": "aycN4UaIyZQt",
        "outputId": "0ae095fc-ba99-4f17-9ee0-4e65677694e3"
      },
      "outputs": [
        {
          "output_type": "display_data",
          "data": {
            "text/plain": [
              "<Figure size 640x480 with 1 Axes>"
            ],
            "image/png": "[encoded data removed]"
          },
          "metadata": {}
        }
      ],
      "source": [
        "plt.plot(losses)\n",
        "plt.xlabel('Epoch')\n",
        "plt.ylabel('Loss')\n",
        "plt.title(f'Loss vs Epoch: eta = {eta}')\n",
        "plt.show()"
      ]
    },
    {
      "cell_type": "code",
      "execution_count": null,
      "metadata": {
        "colab": {
          "base_uri": "https://localhost:8080/"
        },
        "id": "Gax7tlGSauOd",
        "outputId": "f6bee412-b9ab-412d-a52d-b7d0a875c0ee"
      },
      "outputs": [
        {
          "output_type": "stream",
          "name": "stdout",
          "text": [
            "Accuracy: 1.0\n"
          ]
        }
      ],
      "source": [
        "pred = sigmoid(X_test @ w)\n",
        "pred_labels = (pred >=0.5).astype(int)\n",
        "accuracy = np.mean(pred_labels == y_test)\n",
        "print(f'Accuracy: {accuracy}')"
      ]
    }
  ],
  "metadata": {
    "colab": {
      "provenance": []
    },
    "kernelspec": {
      "display_name": "Python 3",
      "name": "python3"
    },
    "language_info": {
      "name": "python"
    }
  },
  "nbformat": 4,
  "nbformat_minor": 0
}